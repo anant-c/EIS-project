{
 "cells": [
  {
   "cell_type": "code",
   "execution_count": 1,
   "metadata": {},
   "outputs": [
    {
     "name": "stdout",
     "output_type": "stream",
     "text": [
      "Say something in hindi:\n",
      "Done!\n",
      "You said: चोली के पीछे क्या है चोली के पीछे\n",
      "In englis: Choli Ke Piche Kya Hai Choli Ke Piche\n"
     ]
    }
   ],
   "source": [
    "import speech_recognition as sr\n",
    "\n",
    "r = sr.Recognizer()\n",
    "\n",
    "language_code = {\n",
    "  \"kannada\": \"kn-IN\",\n",
    "  \"gujarati\": \"gu-IN\",\n",
    "  \"marathi\": \"mr-IN\",\n",
    "  \"bengali\": \"bn-IN\",\n",
    "  \"hindi\": \"hi-IN\",\n",
    "  \"english\": \"en-IN\"  #  for Indian English\n",
    "}\n",
    "\n",
    "chosen_language = \"hindi\"  # Based on user selection in frontend\n",
    "\n",
    "print(f\"Say something in {chosen_language}:\")\n",
    "\n",
    "with sr.Microphone() as source:\n",
    "    audio = r.listen(source)\n",
    "    print(\"Done!\")\n",
    "\n",
    "text = r.recognize_google(audio, language=language_code[chosen_language])\n",
    "\n",
    "print(f\"You said: {text}\")\n",
    "print(f\"In englis: {r.recognize_google(audio)}\")\n"
   ]
  },
  {
   "cell_type": "code",
   "execution_count": 2,
   "metadata": {},
   "outputs": [
    {
     "name": "stdout",
     "output_type": "stream",
     "text": [
      "{'af': 'afrikaans', 'sq': 'albanian', 'am': 'amharic', 'ar': 'arabic', 'hy': 'armenian', 'az': 'azerbaijani', 'eu': 'basque', 'be': 'belarusian', 'bn': 'bengali', 'bs': 'bosnian', 'bg': 'bulgarian', 'ca': 'catalan', 'ceb': 'cebuano', 'ny': 'chichewa', 'zh-cn': 'chinese (simplified)', 'zh-tw': 'chinese (traditional)', 'co': 'corsican', 'hr': 'croatian', 'cs': 'czech', 'da': 'danish', 'nl': 'dutch', 'en': 'english', 'eo': 'esperanto', 'et': 'estonian', 'tl': 'filipino', 'fi': 'finnish', 'fr': 'french', 'fy': 'frisian', 'gl': 'galician', 'ka': 'georgian', 'de': 'german', 'el': 'greek', 'gu': 'gujarati', 'ht': 'haitian creole', 'ha': 'hausa', 'haw': 'hawaiian', 'iw': 'hebrew', 'he': 'hebrew', 'hi': 'hindi', 'hmn': 'hmong', 'hu': 'hungarian', 'is': 'icelandic', 'ig': 'igbo', 'id': 'indonesian', 'ga': 'irish', 'it': 'italian', 'ja': 'japanese', 'jw': 'javanese', 'kn': 'kannada', 'kk': 'kazakh', 'km': 'khmer', 'ko': 'korean', 'ku': 'kurdish (kurmanji)', 'ky': 'kyrgyz', 'lo': 'lao', 'la': 'latin', 'lv': 'latvian', 'lt': 'lithuanian', 'lb': 'luxembourgish', 'mk': 'macedonian', 'mg': 'malagasy', 'ms': 'malay', 'ml': 'malayalam', 'mt': 'maltese', 'mi': 'maori', 'mr': 'marathi', 'mn': 'mongolian', 'my': 'myanmar (burmese)', 'ne': 'nepali', 'no': 'norwegian', 'or': 'odia', 'ps': 'pashto', 'fa': 'persian', 'pl': 'polish', 'pt': 'portuguese', 'pa': 'punjabi', 'ro': 'romanian', 'ru': 'russian', 'sm': 'samoan', 'gd': 'scots gaelic', 'sr': 'serbian', 'st': 'sesotho', 'sn': 'shona', 'sd': 'sindhi', 'si': 'sinhala', 'sk': 'slovak', 'sl': 'slovenian', 'so': 'somali', 'es': 'spanish', 'su': 'sundanese', 'sw': 'swahili', 'sv': 'swedish', 'tg': 'tajik', 'ta': 'tamil', 'te': 'telugu', 'th': 'thai', 'tr': 'turkish', 'uk': 'ukrainian', 'ur': 'urdu', 'ug': 'uyghur', 'uz': 'uzbek', 'vi': 'vietnamese', 'cy': 'welsh', 'xh': 'xhosa', 'yi': 'yiddish', 'yo': 'yoruba', 'zu': 'zulu'}\n"
     ]
    }
   ],
   "source": [
    "import googletrans\n",
    "\n",
    "print(googletrans.LANGUAGES)\n"
   ]
  },
  {
   "cell_type": "code",
   "execution_count": 3,
   "metadata": {},
   "outputs": [
    {
     "name": "stdout",
     "output_type": "stream",
     "text": [
      "What's behind the bodice? What's behind the bodice?\n"
     ]
    }
   ],
   "source": [
    "from googletrans import Translator\n",
    "\n",
    "translator = Translator()\n",
    "translated = translator.translate(text)\n",
    "\n",
    "print(translated.text)"
   ]
  },
  {
   "cell_type": "code",
   "execution_count": 23,
   "metadata": {},
   "outputs": [],
   "source": [
    "import tensorflow as tf\n",
    "from tqdm.notebook import tqdm\n",
    "from transformers import DistilBertTokenizer, TFDistilBertForSequenceClassification\n",
    "import numpy as np\n",
    "from tensorflow.keras.utils import unpack_x_y_sample_weight"
   ]
  },
  {
   "cell_type": "code",
   "execution_count": 24,
   "metadata": {},
   "outputs": [
    {
     "name": "stderr",
     "output_type": "stream",
     "text": [
      "Some weights of the PyTorch model were not used when initializing the TF 2.0 model TFDistilBertForSequenceClassification: ['vocab_layer_norm.bias', 'vocab_layer_norm.weight', 'vocab_projector.bias', 'vocab_transform.weight', 'vocab_transform.bias']\n",
      "- This IS expected if you are initializing TFDistilBertForSequenceClassification from a PyTorch model trained on another task or with another architecture (e.g. initializing a TFBertForSequenceClassification model from a BertForPreTraining model).\n",
      "- This IS NOT expected if you are initializing TFDistilBertForSequenceClassification from a PyTorch model that you expect to be exactly identical (e.g. initializing a TFBertForSequenceClassification model from a BertForSequenceClassification model).\n",
      "Some weights or buffers of the TF 2.0 model TFDistilBertForSequenceClassification were not initialized from the PyTorch model and are newly initialized: ['pre_classifier.weight', 'pre_classifier.bias', 'classifier.weight', 'classifier.bias']\n",
      "You should probably TRAIN this model on a down-stream task to be able to use it for predictions and inference.\n"
     ]
    }
   ],
   "source": [
    "# Load pre-trained DistilBERT tokenizer and model\n",
    "tokenizer = DistilBertTokenizer.from_pretrained('distilbert-base-uncased')\n",
    "model = TFDistilBertForSequenceClassification.from_pretrained('distilbert-base-uncased')"
   ]
  },
  {
   "cell_type": "code",
   "execution_count": 25,
   "metadata": {},
   "outputs": [],
   "source": [
    "dataset = [\n",
    "    (\"Can you turn on the lights of room 1?\",\"Light on room1\",\"Turning on the lights of room1\"),\n",
    "(\"I'd like to have the lights of room 1 turned on, can you do that?\",\"Light on room1\",\"Turning on the lights of room1\"),\n",
    "(\"Is there a way to activate the lights for room 1?\",\"Light on room1\",\"Turning on the lights of room1\"),\n",
    "(\"Can you switch on the lights of room 1, please?\",\"Light on room1\",\"Turning on the lights of room1\"),\n",
    "(\"I need some light of room 1, could you help?\",\"Light on room1\",\"Turning on the lights of room1\"),\n",
    "(\"Let's illuminate room 1, shall we?\",\"Light on room1\",\"Turning on the lights of room1\"),\n",
    "(\"How about turning on the lights for room 1?\",\"Light on room1\",\"Turning on the lights of room1\"),\n",
    "(\"Can you activate the lights of room 1, please?\",\"Light on room1\",\"Turning on the lights of room1\"),\n",
    "(\"It's quite dark of room 1, could you turn on the lights?\",\"Light on room1\",\"Turning on the lights of room1\"),\n",
    "(\"Would you mind brightening up room 1?\",\"Light on room1\",\"Turning on the lights of room1\"),\n",
    "(\"Can you turn on the fan of room 1?\",\"Fan on of room1\",\"Fan for room1 is on. Enjoy the cool air.\"),\n",
    "(\"How about switching on the fan for room 1?\",\"Fan on of room1\",\"Fan for room1 is on. Enjoy the cool air.\"),\n",
    "(\"Can you activate the fan of room 1, please?\",\"Fan on of room1\",\"Fan for room1 is on. Enjoy the cool air.\"),\n",
    "(\"Could you turn off all the lights, please?\",\"Turn off all lights\",\"All lights and fans are off now.\"),\n",
    "(\"Can you switch off all the lights, please?\",\"Turn off all lights\",\"All lights and fans are off now.\"),\n",
    "(\"Please turn off all the lights.\",\"Turn off all lights\",\"All lights and fans are off now.\"),\n",
    "(\"Can you extinguish all lights?\",\"Turn off all lights\",\"All lights and fans are off now.\"),\n",
    "(\"Turn off all lights, please.\",\"Turn off all lights\",\"All lights and fans are off now.\"),\n",
    "(\"Can you deactivate all lights?\",\"Turn off all lights\",\"All lights and fans are off now.\"),\n",
    "(\"I want to turn off all the lights.\",\"Turn off all lights\",\"All lights and fans are off now.\"),\n",
    "(\"Is it possible to turn on the lights of room 2?\",\"Light on room2\",\"Turning on the lights of room2\"),\n",
    "(\"Can you switch on the lights of room 2?\",\"Light on room2\",\"Turning on the lights of room2\"),\n",
    "(\"How about turning on the lights for room 2?\",\"Light on room2\",\"Turning on the lights of room2\"),\n",
    "(\"Can you activate the lights of room 2,please?\",\"Light on room2\",\"Turning on the lights of room2\"),\n",
    "(\"It's quite dark of room 2, can you turn on the lights?\",\"Light on room2\",\"Turning on the lights of room2\"),\n",
    "(\"I need some light of room 2, could you help me?\",\"Light on room2\",\"Turning on the lights of room2\"),\n",
    "(\"Let's illuminate room 2, shall we?\",\"Light on room2\",\"Turning on the lights of room2\"),\n",
    "(\"Would you mind brightening up room 2?\",\"Light on room2\",\"Turning on the lights of room2\"),\n",
    "(\"Can you turn on the fan of room 2?\",\"Fan on of room2\",\"Fan for room2 is on. Enjoy the cool air.\"),\n",
    "(\"How about switching on the fan for room 2?\",\"Fan on of room2\",\"Fan for room2 is on. Enjoy the cool air.\"),\n",
    "(\"Can you activate the fan of room 2, please?\",\"Fan on of room2\",\"Fan for room2 is on. Enjoy the cool air.\"),\n",
    "(\"Could you turn off all the lights of the kitchen, please?\",\"Turn off kitchen lights\",\"All kitchen lights are off now.\"),\n",
    "(\"Please switch off all lights of the kitchen.\",\"Turn off kitchen lights\",\"All kitchen lights are off now.\"),\n",
    "(\"Can you deactivate the lights of the kitchen?\",\"Turn off kitchen lights\",\"All kitchen lights are off now.\"),\n",
    "(\"I want to turn off all the lights of the kitchen.\",\"Turn off kitchen lights\",\"All kitchen lights are off now.\"),\n",
    "(\"Turn off all lights of the kitchen, please.\",\"Turn off kitchen lights\",\"All kitchen lights are off now.\"),\n",
    "(\"Is it possible to turn on the bedroom lights?\",\"Bedroom light on\",\"Bedroom lights are on now.\"),\n",
    "(\"Can you switch on the lights of the bedroom?\",\"Bedroom light on\",\"Bedroom lights are on now.\"),\n",
    "(\"How about turning on the lights for the bedroom?\",\"Bedroom light on\",\"Bedroom lights are on now.\"),\n",
    "(\"Can you activate the lights of the bedroom,please?\",\"Bedroom light on\",\"Bedroom lights are on now.\"),\n",
    "(\"It's quite dark of the bedroom, can you turn on the lights?\",\"Bedroom light on\",\"Bedroom lights are on now.\"),\n",
    "(\"I need some light of the bedroom, could you help me?\",\"Bedroom light on\",\"Bedroom lights are on now.\"),\n",
    "(\"Let's illuminate the bedroom, shall we?\",\"Bedroom light on\",\"Bedroom lights are on now.\"),\n",
    "(\"Would you mind brightening up the bedroom?\",\"Bedroom light on\",\"Bedroom lights are on now.\"),\n",
    "(\"Can you turn on the fan of the bedroom?\",\"Bedroom fan on\",\"Bedroom fan is on now. Enjoy the comfort.\"),\n",
    "(\"How about switching on the fan for the bedroom?\",\"Bedroom fan on\",\"Bedroom fan is on now. Enjoy the comfort.\"),\n",
    "(\"Can you activate the fan of the bedroom, please?\",\"Bedroom fan on\",\"Bedroom fan is on now. Enjoy the comfort.\"),\n",
    "(\"Can you turn on the TV of the living room?\",\"TV on of living room\",\"TV of the living room is now on.\"),\n",
    "(\"Is it possible to switch on the TV of the living room?\",\"TV on of living room\",\"TV of the living room is now on.\"),\n",
    "(\"Can you activate the TV of the living room, please?\",\"TV on of living room\",\"TV of the living room is now on.\"),\n",
    "(\"It's quite dark of room 3, can you turn on the lights?\",\"Turn off lights of room3\",\"Lights of room3 are turned off now.\"),\n",
    "(\"I need some light of room 3, could you help me?\",\"Turn off lights of room3\",\"Lights of room3 are turned off now.\"),\n",
    "(\"Let's illuminate room 3,shall we?\",\"Turn off lights of room3\",\"Lights of room3 are turned off now.\"),\n",
    "(\"Would you mind brightening up room 3?\",\"Turn off lights of room3\",\"Lights of room3 are turned off now.\"),\n",
    "(\"Can you turn on the fan of room 3?\",\"Turn off lights of room3\",\"Lights of room3 are turned off now.\"),\n",
    "(\"How about switching on the fan for room 3?\",\"Turn off lights of room3\",\"Lights of room3 are turned off now.\"),\n",
    "(\"Can you activate the fan of room 3, please?\",\"Turn off lights of room3\",\"Lights of room3 are turned off now.\"),\n",
    "(\"Could you turn off all the lights of the kitchen, please?\",\"Turn off lights of room3\",\"Lights of room3 are turned off now.\"),\n",
    "(\"Please switch off all lights of the kitchen.\",\"Turn off lights of room3\",\"Lights of room3 are turned off now.\"),\n",
    "(\"Can you deactivate the lights of the kitchen?\",\"Turn off lights of room3\",\"Lights of room3 are turned off now.\"),\n",
    "(\"I want to turn off all the lights of the kitchen.\",\"Turn off kitchen lights\",\"All kitchen lights are off now.\"),\n",
    "(\"Turn off all lights of the kitchen, please.\",\"Turn off kitchen lights\",\"All kitchen lights are off now.\"),\n",
    "(\"Is it possible to turn on the bedroom lights?\",\"Bedroom light on\",\"Bedroom lights are on now.\"),\n",
    "(\"Can you switch on the lights of the bedroom?\",\"Bedroom light on\",\"Bedroom lights are on now.\"),\n",
    "(\"How about turning on the lights for the bedroom?\",\"Bedroom light on\",\"Bedroom lights are on now.\"),\n",
    "(\"Can you activate the lights of the bedroom, please?\",\"Bedroom light on\",\"Bedroom lights are on now.\"),\n",
    "(\"It's quite dark of the bedroom, can you turn on the lights?\",\"Bedroom light on\",\"Bedroom lights are on now.\"),\n",
    "(\"I need some light of the bedroom,could you help me?\",\"Bedroom light on\",\"Bedroom lights are on now.\"),\n",
    "(\"Let's illuminate the bedroom, shall we?\",\"Bedroom light on\",\"Bedroom lights are on now.\"),\n",
    "(\"Would you mind brightening up the bedroom?\",\"Bedroom light on\",\"Bedroom lights are on now.\"),\n",
    "(\"Can you turn on the fan of the bedroom?\",\"Bedroom fan on\",\"Bedroom fan is on now. Enjoy the comfort.\"),\n",
    "(\"How about switching on the fan for the bedroom?\",\"Bedroom fan on\",\"Bedroom fan is on now. Enjoy the comfort.\"),\n",
    "(\"Can you activate the fan of the bedroom,please?\",\"Bedroom fan on\",\"Bedroom fan is on now. Enjoy the comfort.\"),\n",
    "(\"Can you turn on the TV of the living room?\",\"TV on of living room\",\"TV of the living room is now on.\"),\n",
    "(\"Is it possible to switch on the TV of the living room?\",\"TV on of living room\",\"TV of the living room is now on.\"),\n",
    "(\"Can you activate the TV of the living room, please?\",\"TV on of living room\",\"TV of the living room is now on.\"),\n",
    "(\"It's quite dark of room 3, can you turn on the lights?\",\"Turn off lights of room3\",\"Lights of room3 are turned off now.\"),\n",
    "(\"I need some light of room 3, could you help me?\",\"Turn off lights of room3\",\"Lights of room3 are turned off now.\"),\n",
    "(\"Let's illuminate room 3, shall we?\",\"Turn off lights of room3\",\"Lights of room3 are turned off now.\"),\n",
    "(\"Would you mind brightening up room 3?\",\"Turn off lights of room3\",\"Lights of room3 are turned off now.\"),\n",
    "(\"Can you turn on the fan of room 3?\",\"Turn off lights of room3\",\"Lights of room3 are turned off now.\"),\n",
    "(\"How about switching on the fan for room 3?\",\"Turn off lights of room3\",\"Lights of room3 are turned off now.\"),\n",
    "(\"Can you activate the fan of room 3, please?\",\"Turn off lights of room3\",\"Lights of room3 are turned off now.\"),\n",
    "(\"Could you turn off all the lights of the kitchen, please?\",\"Turn off lights of room3\",\"Lights of room3 are turned off now.\"),\n",
    "(\"Please switch off all lights of the kitchen.\",\"Turn off lights of room3\",\"Lights of room3 are turned off now.\"),\n",
    "(\"Can you deactivate the lights of the kitchen?\",\"Turn off lights of room3\",\"Lights of room3 are turned off now.\"),\n",
    "(\"I want to turn off all the lights of the kitchen.\",\"Turn off lights of room3\",\"Lights of room3 are turned off now.\"),\n",
    "(\"Turn off all lights of the kitchen, please.\",\"Turn off lights of room3\",\"Lights of room3 are turned off now.\"),\n",
    "(\"Is it possible to turn on the bedroom lights?\",\"Bedroom light on\",\"Bedroom lights are on now.\"),\n",
    "(\"Can you switch on the lights of the bedroom?\",\"Bedroom light on\",\"Bedroom lights are on now.\"),\n",
    "(\"How about turning on the lights for the bedroom?\",\"Bedroom light on\",\"Bedroom lights are on now.\"),\n",
    "(\"Can you activate the lights of the bedroom, please?\",\"Bedroom light on\",\"Bedroom lights are on now.\"),\n",
    "(\"It's quite dark of the bedroom, can you turn on the lights?\",\"Bedroom light on\",\"Bedroom lights are on now.\"),\n",
    "(\"I need some light of the bedroom, could you help me?\",\"Bedroom light on\",\"Bedroom lights are on now.\"),\n",
    "(\"Let's illuminate the bedroom, shall we?\",\"Bedroom light on\",\"Bedroom lights are on now.\"),\n",
    "(\"Would you mind brightening up the bedroom?\",\"Bedroom light on\",\"Bedroom lights are on now.\"),\n",
    "(\"Can you turn on the fan of the bedroom?\",\"Bedroom fan on\",\"Bedroom fan is on now. Enjoy the comfort.\"),\n",
    "(\"How about switching on the fan for the bedroom?\",\"Bedroom fan on\",\"Bedroom fan is on now. Enjoy the comfort.\"),\n",
    "(\"Can you activate the fan of the bedroom, please?\",\"Bedroom fan on\",\"Bedroom fan is on now. Enjoy the comfort.\"),\n",
    "(\"Can you turn on the TV of the living room?\",\"TV on of living room\",\"TV of the living room is now on.\"),\n",
    "(\"Is it possible to switch on the TV of the living room?\",\"TV on of living room\",\"TV of the living room is now on.\"),\n",
    "(\"Can you activate the TV of the living room,please?\",\"TV on of living room\",\"TV of the living room is now on.\"),\n",
    "(\"It's quite dark of room 3, can you turn on the lights?\",\"Turn off lights of room3\",\"Lights of room3 are turned off now.\"),\n",
    "(\"I need some light of room 3, could you help me?\",\"Turn off lights of room3\",\"Lights of room3 are turned off now.\"),\n",
    "(\"Let's illuminate room 3, shall we?\",\"Turn off lights of room3\",\"Lights of room3 are turned off now.\"),\n",
    "(\"Would you mind brightening up room 3?\",\"Turn off lights of room3\",\"Lights of room3 are turned off now.\"),\n",
    "(\"Can you turn on the fan of room 3?\",\"Turn off lights of room3\",\"Lights of room3 are turned off now.\"),\n",
    "(\"How about switching on the fan for room 3?\",\"Turn off lights of room3\",\"Lights of room3 are turned off now.\"),\n",
    "(\"Can you activate the fan of room 3, please?\",\"Turn off lights of room3\",\"Lights of room3 are turned off now.\"),\n",
    "(\"Could you turn off all the lights of the kitchen, please?\",\"Turn off lights of room3\",\"Lights of room3 are turned off now.\"),\n",
    "(\"Please switch off all lights of the kitchen.\",\"Turn off lights of room3\",\"Lights of room3 are turned off now.\"),\n",
    "(\"Can you deactivate the lights of the kitchen?\",\"Turn off lights of room3\",\"Lights of room3 are turned off now.\"),\n",
    "(\"I want to turn off all the lights of the kitchen.\",\"Turn off lights of room3\",\"Lights of room3 are turned off now.\"),\n",
    "(\"Turn off all lights of the kitchen, please.\",\"Turn off lights of room3\",\"Lights of room3 are turned off now.\"),\n",
    "(\"Is it possible to turn on the bedroom lights?\",\"Bedroom light on\",\"Bedroom lights are on now.\"),\n",
    "(\"Can you switch on the lights of the bedroom?\",\"Bedroom light on\",\"Bedroom lights are on now.\"),\n",
    "(\"How about turning on the lights for the bedroom?\",\"Bedroom light on\",\"Bedroom lights are on now.\"),\n",
    "(\"Can you activate the lights of the bedroom, please?\",\"Bedroom light on\",\"Bedroom lights are on now.\"),\n",
    "(\"It's quite dark of the bedroom, can you turn on the lights?\",\"Bedroom light on\",\"Bedroom lights are on now.\"),\n",
    "(\"I need some light of the bedroom, could you help me?\",\"Bedroom light on\",\"Bedroom lights are on now.\"),\n",
    "(\"Let's illuminate the bedroom, shall we?\",\"Bedroom light on\",\"Bedroom lights are on now.\"),\n",
    "(\"Would you mind brightening up the bedroom?\",\"Bedroom light on\",\"Bedroom lights are on now.\"),\n",
    "(\"Can you turn on the fan of the bedroom?\",\"Bedroom fan on\",\"Bedroom fan is on now. Enjoy the comfort.\"),\n",
    "(\"How about switching on the fan for the bedroom?\",\"Bedroom fan on\",\"Bedroom fan is on now. Enjoy the comfort.\"),\n",
    "(\"Can you activate the fan of the bedroom, please?\",\"Bedroom fan on\",\"Bedroom fan is on now. Enjoy the comfort.\"),\n",
    "(\"Can you turn on the TV of the living room?\",\"TV on of living room\",\"TV of the living room is now on.\"),\n",
    "(\"Is it possible to switch on the TV of the living room?\",\"TV on of living room\",\"TV of the living room is now on.\"),\n",
    "(\"Can you activate the TV of the living room, please?\",\"TV on of living room\",\"TV of the living room is now on.\"),\n",
    "(\"It's quite dark of room 3, can you turn on the lights?\",\"Turn off lights of room3\",\"Lights of room3 are turned off now.\"),\n",
    "(\"I need some light of room 3, could you help me?\",\"Turn off lights of room3\",\"Lights of room3 are turned off now.\"),\n",
    "(\"Let's illuminate room 3, shall we?\",\"Turn off lights of room3\",\"Lights of room3 are turned off now.\"),\n",
    "(\"Would you mind brightening up room 3?\",\"Turn off lights of room3\",\"Lights of room3 are turned off now.\"),\n",
    "(\"Can you turn on the fan of room 3?\",\"Turn off lights of room3\",\"Lights of room3 are turned off now.\"),\n",
    "(\"How about switching on the fan for room 3?\",\"Turn off lights of room3\",\"Lights of room3 are turned off now.\"),\n",
    "(\"Can you activate the fan of room 3, please?\",\"Turn off lights of room3\",\"Lights of room3 are turned off now.\"),\n",
    "(\"Could you turn off all the lights of the kitchen, please?\",\"Turn off lights of room3\",\"Lights of room3 are turned off now.\"),\n",
    "(\"Please switch off all lights of the kitchen.\",\"Turn off lights of room3\",\"Lights of room3 are turned off now.\"),\n",
    "(\"Can you deactivate the lights of the kitchen?\",\"Turn off lights of room3\",\"Lights of room3 are turned off now.\"),\n",
    "(\"I want to turn off all the lights of the kitchen.\",\"Turn off lights of room3\",\"Lights of room3 are turned off now.\"),\n",
    "(\"Turn off all lights of the kitchen, please.\",\"Turn off lights of room3\",\"Lights of room3 are turned off now.\"),\n",
    "(\"Is it possible to turn on the bedroom lights?\",\"Bedroom light on\",\"Bedroom lights are on now.\"),\n",
    "(\"Can you switch on the lights of the bedroom?\",\"Bedroom light on\",\"Bedroom lights are on now.\"),\n",
    "(\"How about turning on the lights for the bedroom?\",\"Bedroom light on\",\"Bedroom lights are on now.\"),\n",
    "(\"Can you activate the lights of the bedroom, please?\",\"Bedroom light on\",\"Bedroom lights are on now.\"),\n",
    "(\"It's quite dark of the bedroom, can you turn on the lights?\",\"Bedroom light on\",\"Bedroom lights are on now.\"),\n",
    "(\"I need some light of the bedroom, could you help me?\",\"Bedroom light on\",\"Bedroom lights are on now.\"),\n",
    "(\"Let's illuminate the bedroom, shall we?\",\"Bedroom light on\",\"Bedroom lights are on now.\"),\n",
    "(\"Would you mind brightening up the bedroom?\",\"Bedroom light on\",\"Bedroom lights are on now.\"),\n",
    "(\"Can you turn on the fan of the bedroom?\",\"Bedroom fan on\",\"Bedroom fan is on now. Enjoy the comfort.\"),\n",
    "(\"How about switching on the fan for the bedroom?\",\"Bedroom fan on\",\"Bedroom fan is on now. Enjoy the comfort.\"),\n",
    "(\"Can you activate the fan of the bedroom, please?\",\"Bedroom fan on\",\"Bedroom fan is on now. Enjoy the comfort.\"),\n",
    "(\"Can you turn on the TV of the living room?\",\"TV on of living room\",\"TV of the living room is now on.\"),\n",
    "(\"Is it possible to switch on the TV of the living room?\",\"TV on of living room\",\"TV of the living room is now on.\"),\n",
    "(\"Can you activate the TV of the living room,please?\",\"TV on of living room\",\"TV of the living room is now on.\"),\n",
    "(\"It's quite dark of room 3, can you turn on the lights?\",\"Turn off lights of room3\",\"Lights of room3 are turned off now.\"),\n",
    "(\"I need some light of room 3,could you help me?\",\"Turn off lights of room3\",\"Lights of room3 are turned off now.\"),\n",
    "(\"Let's illuminate room 3, shall we?\",\"Turn off lights of room3\",\"Lights of room3 are turned off now.\"),\n",
    "(\"Would you mind brightening up room 3?\",\"Turn off lights of room3\",\"Lights of room3 are turned off now.\"),\n",
    "(\"Can you turn on the fan of room 3?\",\"Turn off lights of room3\",\"Lights of room3 are turned off now.\"),\n",
    "(\"How about switching on the fan for room 3?\",\"Turn off lights of room3\",\"Lights of room3 are turned off now.\"),\n",
    "(\"Can you activate the fan of room 3, please?\",\"Turn off lights of room3\",\"Lights of room3 are turned off now.\"),\n",
    "(\"Could you turn off all the lights of the kitchen, please?\",\"Turn off lights of room3\",\"Lights of room3 are turned off now.\"),\n",
    "(\"Please switch off all lights of the kitchen.\",\"Turn off lights of room3\",\"Lights of room3 are turned off now.\"),\n",
    "(\"Can you deactivate the lights of the kitchen?\",\"Turn off lights of room3\",\"Lights of room3 are turned off now.\"),\n",
    "(\"I want to turn off all the lights of the kitchen.\",\"Turn off lights of room3\",\"Lights of room3 are turned off now.\"),\n",
    "(\"Turn off all lights of the kitchen, please.\",\"Turn off lights of room3\",\"Lights of room3 are turned off now.\"),\n",
    "(\"Is it possible to turn on the bedroom lights?\",\"Bedroom light on\",\"Bedroom lights are on now.\"),\n",
    "(\"Can you switch on the lights of the bedroom?\",\"Bedroom light on\",\"Bedroom lights are on now.\"),\n",
    "(\"How about turning on the lights for the bedroom?\",\"Bedroom light on\",\"Bedroom lights are on now.\"),\n",
    "(\"Can you activate the lights of the bedroom, please?\",\"Bedroom light on\",\"Bedroom lights are on now.\"),\n",
    "(\"It's quite dark of the bedroom, can you turn on the lights?\",\"Bedroom light on\",\"Bedroom lights are on now.\"),\n",
    "(\"I need some light of the bedroom, could you help me?\",\"Bedroom light on\",\"Bedroom lights are on now.\"),\n",
    "(\"Let's illuminate the bedroom, shall we?\",\"Bedroom light on\",\"Bedroom lights are on now.\"),\n",
    "(\"Would you mind brightening up the bedroom?\",\"Bedroom light on\",\"Bedroom lights are on now.\"),\n",
    "(\"Can you turn on the fan of the bedroom?\",\"Bedroom fan on\",\"Bedroom fan is on now. Enjoy the comfort.\"),\n",
    "(\"How about switching on the fan for the bedroom?\",\"Bedroom fan on\",\"Bedroom fan is on now. Enjoy the comfort.\"),\n",
    "(\"Can you activate the fan of the bedroom, please?\",\"Bedroom fan on\",\"Bedroom fan is on now. Enjoy the comfort.\"),\n",
    "(\"Can you turn on the TV of the living room?\",\"TV on of living room\",\"TV of the living room is now on.\"),\n",
    "(\"Is it possible to switch on the TV of the living room?\",\"TV on of living room\",\"TV of the living room is now on.\"),\n",
    "(\"Can you activate the TV of the living room, please?\",\"TV on of living room\",\"TV of the living room is now on.\"),\n",
    "(\"It's quite dark of room 3, can you turn on the lights?\",\"Turn off lights of room3\",\"Lights of room3 are turned off now.\"),\n",
    "(\"I need some light of room 3, could you help me?\",\"Turn off lights of room3\",\"Lights of room3 are turned off now.\"),\n",
    "(\"Let's illuminate room 3, shall we?\",\"Turn off lights of room3\",\"Lights of room3 are turned off now.\"),\n",
    "(\"Would you mind brightening up room 3?\",\"Turn off lights of room3\",\"Lights of room3 are turned off now.\"),\n",
    "(\"Can you turn on the fan of room 3?\",\"Turn off lights of room3\",\"Lights of room3 are turned off now.\"),\n",
    "(\"How about switching on the fan for room 3?\",\"Turn off lights of room3\",\"Lights of room3 are turned off now.\"),\n",
    "(\"Can you activate the fan of room 3, please?\",\"Turn off lights of room3\",\"Lights of room3 are turned off now.\"),\n",
    "(\"Could you turn off all the lights of the kitchen, please?\",\"Turn off lights of room3\",\"Lights of room3 are turned off now.\"),\n",
    "(\"Please switch off all lights of the kitchen.\",\"Turn off lights of room3\",\"Lights of room3 are turned off now.\"),\n",
    "(\"Can you deactivate the lights of the kitchen?\",\"Turn off lights of room3\",\"Lights of room3 are turned off now.\"),\n",
    "(\"I want to turn off all the lights of the kitchen.\",\"Turn off lights of room3\",\"Lights of room3 are turned off now.\"),\n",
    "(\"Turn off all lights of the kitchen, please.\",\"Turn off lights of room3\",\"Lights of room3 are turned off now.\"),\n",
    "(\"Is it possible to turn on the bedroom lights?\",\"Bedroom light on\",\"Bedroom lights are on now.\"),\n",
    "(\"Can you switch on the lights of the bedroom?\",\"Bedroom light on\",\"Bedroom lights are on now.\"),\n",
    "(\"How about turning on the lights for the bedroom?\",\"Bedroom light on\",\"Bedroom lights are on now.\"),\n",
    "(\"Can you activate the lights of the bedroom, please?\",\"Bedroom light on\",\"Bedroom lights are on now.\"),\n",
    "(\"It's quite dark of the bedroom, can you turn on the lights?\",\"Bedroom light on\",\"Bedroom lights are on now.\"),\n",
    "(\"I need some light of the bedroom, could you help me?\",\"Bedroom light on\",\"Bedroom lights are on now.\"),\n",
    "(\"Let's illuminate the bedroom, shall we?\",\"Bedroom light on\",\"Bedroom lights are on now.\"),\n",
    "(\"Would you mind brightening up the bedroom?\",\"Bedroom light on\",\"Bedroom lights are on now.\"),\n",
    "(\"Can you turn on the fan of the bedroom?\",\"Bedroom fan on\",\"Bedroom fan is on now. Enjoy the comfort.\"),\n",
    "(\"How about switching on the fan for the bedroom?\",\"Bedroom fan on\",\"Bedroom fan is on now. Enjoy the comfort.\"),\n",
    "(\"Can you activate the fan of the bedroom, please?\",\"Bedroom fan on\",\"Bedroom fan is on now. Enjoy the comfort.\"),\n",
    "(\"Can you turn on the TV of the living room?\",\"TV on of living room\",\"TV of the living room is now on.\"),\n",
    "(\"Is it possible to switch on the TV of the living room?\",\"TV on of living room\",\"TV of the living room is now on.\"),\n",
    "(\"Can you activate the TV of the living room, please?\",\"TV on of living room\",\"TV of the living room is now on.\"),\n",
    "(\"It's quite dark of room 3, can you turn on the lights?\",\"Turn off lights of room3\",\"Lights of room3 are turned off now.\"),\n",
    "(\"I need some light of room 3, could you help me?\",\"Turn off lights of room3\",\"Lights of room3 are turned off now.\"),\n",
    "(\"Let's illuminate room 3, shall we?\",\"Turn off lights of room3\",\"Lights of room3 are turned off now.\"),\n",
    "(\"Would you mind brightening up room 3?\",\"Turn off lights of room3\",\"Lights of room3 are turned off now.\"),\n",
    "(\"Can you turn on the fan of room 3?\",\"Turn off lights of room3\",\"Lights of room3 are turned off now.\"),\n",
    "(\"How about switching on the fan for room 3?\",\"Turn off lights of room3\",\"Lights of room3 are turned off now.\"),\n",
    "(\"Can you activate the fan of room 3, please?\",\"Turn off lights of room3\",\"Lights of room3 are turned off now.\"),\n",
    "(\"Could you turn off all the lights of the kitchen, please?\",\"Turn off lights of room3\",\"Lights of room3 are turned off now.\"),\n",
    "(\"Please switch off all lights of the kitchen.\",\"Turn off lights of room3\",\"Lights of room3 are turned off now.\"),\n",
    "(\"Can you deactivate the lights of the kitchen?\",\"Turn off lights of room3\",\"Lights of room3 are turned off now.\"),\n",
    "(\"I want to turn off all the lights of the kitchen.\",\"Turn off lights of room3\",\"Lights of room3 are turned off now.\"),\n",
    "(\"Turn off all lights of the kitchen, please.\",\"Turn off lights of room3\",\"Lights of room3 are turned off now.\"),\n",
    "(\"Is it possible to turn on the bedroom lights?\",\"Bedroom light on\",\"Bedroom lights are on now.\"),\n",
    "(\"Can you switch on the lights of the bedroom?\",\"Bedroom light on\",\"Bedroom lights are on now.\"),\n",
    "(\"How about turning on the lights for the bedroom?\",\"Bedroom light on\",\"Bedroom lights are on now.\"),\n",
    "(\"Can you activate the lights of the bedroom, please?\",\"Bedroom light on\",\"Bedroom lights are on now.\"),\n",
    "(\"It's quite dark of the bedroom, can you turn on the lights?\",\"Bedroom light on\",\"Bedroom lights are on now.\"),\n",
    "(\"I need some light of the bedroom, could you help me?\",\"Bedroom light on\",\"Bedroom lights are on now.\"),\n",
    "(\"Let's illuminate the bedroom, shall we?\",\"Bedroom light on\",\"Bedroom lights are on now.\"),\n",
    "(\"Would you mind brightening up the bedroom?\",\"Bedroom light on\",\"Bedroom lights are on now.\"),\n",
    "(\"Can you turn on the fan of the bedroom?\",\"Bedroom fan on\",\"Bedroom fan is on now. Enjoy the comfort.\"),\n",
    "(\"How about switching on the fan for the bedroom?\",\"Bedroom fan on\",\"Bedroom fan is on now. Enjoy the comfort.\"),\n",
    "(\"Can you activate the fan of the bedroom, please?\",\"Bedroom fan on\",\"Bedroom fan is on now. Enjoy the comfort.\"),\n",
    "(\"Can you turn on the TV of the living room?\",\"TV on of living room\",\"TV of the living room is now on.\"),\n",
    "(\"Is it possible to switch on the TV of the living room?\",\"TV on of living room\",\"TV of the living room is now on.\"),\n",
    "(\"Can you activate the TV of the living room, please?\",\"TV on of living room\",\"TV of the living room is now on.\"),\n",
    "(\"It's quite dark of room 3 can you turn on the lights?\",\"Turn off lights of room3\",\"Lights of room3 are turned off now.\"),\n",
    "(\"I need some light of room 3 could you help me?\",\"Turn off lights of room3\",\"Lights of room3 are turned off now.\"),\n",
    "(\"Let's illuminate room 3, shall we?\",\"Turn off lights of room3\",\"Lights of room3 are turned off now.\"),\n",
    "(\"Would you mind brightening up room 3?\",\"Turn off lights of room3\",\"Lights of room3 are turned off now.\"),\n",
    "(\"Can you turn on the fan of room 3?\",\"Turn off lights of room3\",\"Lights of room3 are turned off now.\"),\n",
    "(\"How about switching on the fan for room 3?\",\"Turn off lights of room3\",\"Lights of room3 are turned off now.\"),\n",
    "(\"Can you activate the fan of room 3, please?\",\"Turn off lights of room3\",\"Lights of room3 are turned off now.\"),\n",
    "(\"Could you turn off all the lights of the kitchen, please?\",\"Turn off lights of room3\",\"Lights of room3 are turned off now.\"),\n",
    "(\"Please switch off all lights of the kitchen.\",\"Turn off lights of room3\",\"Lights of room3 are turned off now.\"),\n",
    "(\"Can you deactivate the lights of the kitchen?\",\"Turn off lights of room3\",\"Lights of room3 are turned off now.\"),\n",
    "(\"I want to turn off all the lights of the kitchen.\",\"Turn off lights of room3\",\"Lights of room3 are turned off now.\"),\n",
    "(\"Turn off all lights of the kitchen, please.\",\"Turn off lights of room3\",\"Lights of room3 are turned off now.\"),\n",
    "(\"Is it possible to turn on the bedroom lights?\",\"Bedroom light on\",\"Bedroom lights are on now.\"),\n",
    "(\"Can you switch on the lights of the bedroom?\",\"Bedroom light on\",\"Bedroom lights are on now.\"),\n",
    "(\"How about turning on the lights for the bedroom?\",\"Bedroom light on\",\"Bedroom lights are on now.\"),\n",
    "(\"Can you activate the lights of the bedroom, please?\",\"Bedroom light on\",\"Bedroom lights are on now.\"),\n",
    "(\"It's quite dark of the bedroom, can you turn on the lights?\",\"Bedroom light on\",\"Bedroom lights are on now.\"),\n",
    "(\"I need some light of the bedroom, could you help me?\",\"Bedroom light on\",\"Bedroom lights are on now.\"),\n",
    "\n",
    "]"
   ]
  },
  {
   "cell_type": "code",
   "execution_count": 26,
   "metadata": {},
   "outputs": [],
   "source": [
    "# Preprocess the dataset\n",
    "inputs = [tokenizer(question, return_tensors='tf', padding=True, truncation=True) for question, _, _ in dataset]\n",
    "intent_labels = [intent for _, intent, _ in dataset]\n",
    "chatbot_answers = [answer for _, _, answer in dataset]"
   ]
  },
  {
   "cell_type": "code",
   "execution_count": 28,
   "metadata": {},
   "outputs": [],
   "source": [
    "# Convert intent labels into numerical representations\n",
    "intent_label_map = {label: i for i, label in enumerate(set(intent_labels))}\n",
    "intent_ids = [intent_label_map[label] for label in intent_labels]"
   ]
  },
  {
   "cell_type": "code",
   "execution_count": 29,
   "metadata": {},
   "outputs": [],
   "source": [
    "# Prepare data for training\n",
    "train_data = tf.data.Dataset.from_tensor_slices((inputs, intent_ids)).shuffle(len(dataset)).batch(32)"
   ]
  },
  {
   "cell_type": "code",
   "execution_count": 32,
   "metadata": {},
   "outputs": [
    {
     "name": "stdout",
     "output_type": "stream",
     "text": [
      "2.12.0\n"
     ]
    }
   ],
   "source": [
    "print(tf.__version__)"
   ]
  },
  {
   "cell_type": "code",
   "execution_count": 33,
   "metadata": {},
   "outputs": [
    {
     "name": "stdout",
     "output_type": "stream",
     "text": [
      "Epoch 1/10\n"
     ]
    },
    {
     "ename": "AttributeError",
     "evalue": "in user code:\n\n    File \"c:\\Users\\aakas\\AppData\\Local\\Programs\\Python\\Python311\\Lib\\site-packages\\keras\\engine\\training.py\", line 1284, in train_function  *\n        return step_function(self, iterator)\n    File \"c:\\Users\\aakas\\AppData\\Local\\Programs\\Python\\Python311\\Lib\\site-packages\\keras\\engine\\training.py\", line 1268, in step_function  **\n        \n    File \"c:\\Users\\aakas\\AppData\\Local\\Programs\\Python\\Python311\\Lib\\site-packages\\keras\\engine\\training.py\", line 1249, in run_step  **\n        \n    File \"c:\\Users\\aakas\\AppData\\Local\\Programs\\Python\\Python311\\Lib\\site-packages\\transformers\\modeling_tf_utils.py\", line 1571, in train_step\n        x, y, sample_weight = keras.utils.unpack_x_y_sample_weight(data)\n\n    AttributeError: module 'keras.utils' has no attribute 'unpack_x_y_sample_weight'\n",
     "output_type": "error",
     "traceback": [
      "\u001b[1;31m---------------------------------------------------------------------------\u001b[0m",
      "\u001b[1;31mAttributeError\u001b[0m                            Traceback (most recent call last)",
      "Cell \u001b[1;32mIn[33], line 3\u001b[0m\n\u001b[0;32m      1\u001b[0m \u001b[38;5;66;03m# Fine-tune the model (optional)\u001b[39;00m\n\u001b[0;32m      2\u001b[0m model\u001b[38;5;241m.\u001b[39mcompile(optimizer\u001b[38;5;241m=\u001b[39m\u001b[38;5;124m'\u001b[39m\u001b[38;5;124madam\u001b[39m\u001b[38;5;124m'\u001b[39m, loss\u001b[38;5;241m=\u001b[39m\u001b[38;5;124m'\u001b[39m\u001b[38;5;124msparse_categorical_crossentropy\u001b[39m\u001b[38;5;124m'\u001b[39m, metrics\u001b[38;5;241m=\u001b[39m[\u001b[38;5;124m'\u001b[39m\u001b[38;5;124maccuracy\u001b[39m\u001b[38;5;124m'\u001b[39m])\n\u001b[1;32m----> 3\u001b[0m \u001b[43mmodel\u001b[49m\u001b[38;5;241;43m.\u001b[39;49m\u001b[43mfit\u001b[49m\u001b[43m(\u001b[49m\u001b[43mtrain_data\u001b[49m\u001b[43m,\u001b[49m\u001b[43m \u001b[49m\u001b[43mepochs\u001b[49m\u001b[38;5;241;43m=\u001b[39;49m\u001b[38;5;241;43m10\u001b[39;49m\u001b[43m)\u001b[49m\n",
      "File \u001b[1;32mc:\\Users\\aakas\\AppData\\Local\\Programs\\Python\\Python311\\Lib\\site-packages\\transformers\\modeling_tf_utils.py:1170\u001b[0m, in \u001b[0;36mTFPreTrainedModel.fit\u001b[1;34m(self, *args, **kwargs)\u001b[0m\n\u001b[0;32m   1167\u001b[0m \u001b[38;5;129m@functools\u001b[39m\u001b[38;5;241m.\u001b[39mwraps(keras\u001b[38;5;241m.\u001b[39mModel\u001b[38;5;241m.\u001b[39mfit)\n\u001b[0;32m   1168\u001b[0m \u001b[38;5;28;01mdef\u001b[39;00m \u001b[38;5;21mfit\u001b[39m(\u001b[38;5;28mself\u001b[39m, \u001b[38;5;241m*\u001b[39margs, \u001b[38;5;241m*\u001b[39m\u001b[38;5;241m*\u001b[39mkwargs):\n\u001b[0;32m   1169\u001b[0m     args, kwargs \u001b[38;5;241m=\u001b[39m convert_batch_encoding(\u001b[38;5;241m*\u001b[39margs, \u001b[38;5;241m*\u001b[39m\u001b[38;5;241m*\u001b[39mkwargs)\n\u001b[1;32m-> 1170\u001b[0m     \u001b[38;5;28;01mreturn\u001b[39;00m \u001b[38;5;28;43msuper\u001b[39;49m\u001b[43m(\u001b[49m\u001b[43m)\u001b[49m\u001b[38;5;241;43m.\u001b[39;49m\u001b[43mfit\u001b[49m\u001b[43m(\u001b[49m\u001b[38;5;241;43m*\u001b[39;49m\u001b[43margs\u001b[49m\u001b[43m,\u001b[49m\u001b[43m \u001b[49m\u001b[38;5;241;43m*\u001b[39;49m\u001b[38;5;241;43m*\u001b[39;49m\u001b[43mkwargs\u001b[49m\u001b[43m)\u001b[49m\n",
      "File \u001b[1;32mc:\\Users\\aakas\\AppData\\Local\\Programs\\Python\\Python311\\Lib\\site-packages\\keras\\utils\\traceback_utils.py:70\u001b[0m, in \u001b[0;36mfilter_traceback.<locals>.error_handler\u001b[1;34m(*args, **kwargs)\u001b[0m\n\u001b[0;32m     67\u001b[0m     filtered_tb \u001b[38;5;241m=\u001b[39m _process_traceback_frames(e\u001b[38;5;241m.\u001b[39m__traceback__)\n\u001b[0;32m     68\u001b[0m     \u001b[38;5;66;03m# To get the full stack trace, call:\u001b[39;00m\n\u001b[0;32m     69\u001b[0m     \u001b[38;5;66;03m# `tf.debugging.disable_traceback_filtering()`\u001b[39;00m\n\u001b[1;32m---> 70\u001b[0m     \u001b[38;5;28;01mraise\u001b[39;00m e\u001b[38;5;241m.\u001b[39mwith_traceback(filtered_tb) \u001b[38;5;28;01mfrom\u001b[39;00m \u001b[38;5;28;01mNone\u001b[39;00m\n\u001b[0;32m     71\u001b[0m \u001b[38;5;28;01mfinally\u001b[39;00m:\n\u001b[0;32m     72\u001b[0m     \u001b[38;5;28;01mdel\u001b[39;00m filtered_tb\n",
      "File \u001b[1;32m~\\AppData\\Local\\Temp\\__autograph_generated_filetank60yu.py:15\u001b[0m, in \u001b[0;36mouter_factory.<locals>.inner_factory.<locals>.tf__train_function\u001b[1;34m(iterator)\u001b[0m\n\u001b[0;32m     13\u001b[0m \u001b[38;5;28;01mtry\u001b[39;00m:\n\u001b[0;32m     14\u001b[0m     do_return \u001b[38;5;241m=\u001b[39m \u001b[38;5;28;01mTrue\u001b[39;00m\n\u001b[1;32m---> 15\u001b[0m     retval_ \u001b[38;5;241m=\u001b[39m ag__\u001b[38;5;241m.\u001b[39mconverted_call(ag__\u001b[38;5;241m.\u001b[39mld(step_function), (ag__\u001b[38;5;241m.\u001b[39mld(\u001b[38;5;28mself\u001b[39m), ag__\u001b[38;5;241m.\u001b[39mld(iterator)), \u001b[38;5;28;01mNone\u001b[39;00m, fscope)\n\u001b[0;32m     16\u001b[0m \u001b[38;5;28;01mexcept\u001b[39;00m:\n\u001b[0;32m     17\u001b[0m     do_return \u001b[38;5;241m=\u001b[39m \u001b[38;5;28;01mFalse\u001b[39;00m\n",
      "File \u001b[1;32mc:\\Users\\aakas\\AppData\\Local\\Programs\\Python\\Python311\\Lib\\site-packages\\transformers\\modeling_tf_utils.py:1571\u001b[0m, in \u001b[0;36mTFPreTrainedModel.train_step\u001b[1;34m(self, data)\u001b[0m\n\u001b[0;32m   1568\u001b[0m \u001b[38;5;28;01mif\u001b[39;00m \u001b[38;5;129;01mnot\u001b[39;00m \u001b[38;5;28mself\u001b[39m\u001b[38;5;241m.\u001b[39m_using_dummy_loss \u001b[38;5;129;01mand\u001b[39;00m parse(tf\u001b[38;5;241m.\u001b[39m__version__) \u001b[38;5;241m<\u001b[39m parse(\u001b[38;5;124m\"\u001b[39m\u001b[38;5;124m2.11.0\u001b[39m\u001b[38;5;124m\"\u001b[39m):\n\u001b[0;32m   1569\u001b[0m     \u001b[38;5;66;03m# Newer TF train steps leave this out\u001b[39;00m\n\u001b[0;32m   1570\u001b[0m     data \u001b[38;5;241m=\u001b[39m expand_1d(data)\n\u001b[1;32m-> 1571\u001b[0m x, y, sample_weight \u001b[38;5;241m=\u001b[39m \u001b[43mkeras\u001b[49m\u001b[38;5;241;43m.\u001b[39;49m\u001b[43mutils\u001b[49m\u001b[38;5;241;43m.\u001b[39;49m\u001b[43munpack_x_y_sample_weight\u001b[49m(data)\n\u001b[0;32m   1572\u001b[0m \u001b[38;5;66;03m# If the inputs are mutable dictionaries, make a shallow copy of them because we will modify\u001b[39;00m\n\u001b[0;32m   1573\u001b[0m \u001b[38;5;66;03m# them during input/label pre-processing. This avoids surprising the user by wrecking their data.\u001b[39;00m\n\u001b[0;32m   1574\u001b[0m \u001b[38;5;66;03m# In addition, modifying mutable Python inputs makes XLA compilation impossible.\u001b[39;00m\n\u001b[0;32m   1575\u001b[0m \u001b[38;5;28;01mif\u001b[39;00m \u001b[38;5;28misinstance\u001b[39m(x, \u001b[38;5;28mdict\u001b[39m):\n",
      "\u001b[1;31mAttributeError\u001b[0m: in user code:\n\n    File \"c:\\Users\\aakas\\AppData\\Local\\Programs\\Python\\Python311\\Lib\\site-packages\\keras\\engine\\training.py\", line 1284, in train_function  *\n        return step_function(self, iterator)\n    File \"c:\\Users\\aakas\\AppData\\Local\\Programs\\Python\\Python311\\Lib\\site-packages\\keras\\engine\\training.py\", line 1268, in step_function  **\n        \n    File \"c:\\Users\\aakas\\AppData\\Local\\Programs\\Python\\Python311\\Lib\\site-packages\\keras\\engine\\training.py\", line 1249, in run_step  **\n        \n    File \"c:\\Users\\aakas\\AppData\\Local\\Programs\\Python\\Python311\\Lib\\site-packages\\transformers\\modeling_tf_utils.py\", line 1571, in train_step\n        x, y, sample_weight = keras.utils.unpack_x_y_sample_weight(data)\n\n    AttributeError: module 'keras.utils' has no attribute 'unpack_x_y_sample_weight'\n"
     ]
    }
   ],
   "source": [
    "# Fine-tune the model (optional)\n",
    "model.compile(optimizer='adam', loss='sparse_categorical_crossentropy', metrics=['accuracy'])\n",
    "model.fit(train_data, epochs=10)"
   ]
  },
  {
   "cell_type": "code",
   "execution_count": 18,
   "metadata": {},
   "outputs": [
    {
     "name": "stdout",
     "output_type": "stream",
     "text": [
      "WARNING:tensorflow:Skipping full serialization of Keras layer <keras.layers.regularization.dropout.Dropout object at 0x00000242659A8AD0>, because it is not built.\n",
      "WARNING:tensorflow:Skipping full serialization of Keras layer <keras.layers.regularization.dropout.Dropout object at 0x0000024264C52CD0>, because it is not built.\n",
      "WARNING:tensorflow:Skipping full serialization of Keras layer <keras.layers.regularization.dropout.Dropout object at 0x0000024265487F90>, because it is not built.\n",
      "WARNING:tensorflow:Skipping full serialization of Keras layer <keras.layers.regularization.dropout.Dropout object at 0x00000242654DBA90>, because it is not built.\n",
      "WARNING:tensorflow:Skipping full serialization of Keras layer <keras.layers.regularization.dropout.Dropout object at 0x00000242657B7D10>, because it is not built.\n",
      "WARNING:tensorflow:Skipping full serialization of Keras layer <keras.layers.regularization.dropout.Dropout object at 0x00000242654CFB90>, because it is not built.\n"
     ]
    },
    {
     "name": "stderr",
     "output_type": "stream",
     "text": [
      "WARNING:absl:Found untraced functions such as serving, embeddings_layer_call_fn, embeddings_layer_call_and_return_conditional_losses, transformer_layer_call_fn, transformer_layer_call_and_return_conditional_losses while saving (showing 5 of 165). These functions will not be directly callable after loading.\n"
     ]
    },
    {
     "name": "stdout",
     "output_type": "stream",
     "text": [
      "INFO:tensorflow:Assets written to: C:\\Users\\aakas\\AppData\\Local\\Temp\\tmpyb3vp2pp\\assets\n"
     ]
    },
    {
     "name": "stderr",
     "output_type": "stream",
     "text": [
      "INFO:tensorflow:Assets written to: C:\\Users\\aakas\\AppData\\Local\\Temp\\tmpyb3vp2pp\\assets\n"
     ]
    },
    {
     "ename": "KeyboardInterrupt",
     "evalue": "",
     "output_type": "error",
     "traceback": [
      "\u001b[1;31m---------------------------------------------------------------------------\u001b[0m",
      "\u001b[1;31mKeyboardInterrupt\u001b[0m                         Traceback (most recent call last)",
      "Cell \u001b[1;32mIn[18], line 3\u001b[0m\n\u001b[0;32m      1\u001b[0m \u001b[38;5;66;03m# Convert model to TensorFlow Lite format\u001b[39;00m\n\u001b[0;32m      2\u001b[0m converter \u001b[38;5;241m=\u001b[39m tf\u001b[38;5;241m.\u001b[39mlite\u001b[38;5;241m.\u001b[39mTFLiteConverter\u001b[38;5;241m.\u001b[39mfrom_keras_model(model)\n\u001b[1;32m----> 3\u001b[0m tflite_model \u001b[38;5;241m=\u001b[39m \u001b[43mconverter\u001b[49m\u001b[38;5;241;43m.\u001b[39;49m\u001b[43mconvert\u001b[49m\u001b[43m(\u001b[49m\u001b[43m)\u001b[49m\n",
      "File \u001b[1;32mc:\\Users\\aakas\\AppData\\Local\\Programs\\Python\\Python311\\Lib\\site-packages\\tensorflow\\lite\\python\\lite.py:962\u001b[0m, in \u001b[0;36m_export_metrics.<locals>.wrapper\u001b[1;34m(self, *args, **kwargs)\u001b[0m\n\u001b[0;32m    959\u001b[0m \u001b[38;5;129m@functools\u001b[39m\u001b[38;5;241m.\u001b[39mwraps(convert_func)\n\u001b[0;32m    960\u001b[0m \u001b[38;5;28;01mdef\u001b[39;00m \u001b[38;5;21mwrapper\u001b[39m(\u001b[38;5;28mself\u001b[39m, \u001b[38;5;241m*\u001b[39margs, \u001b[38;5;241m*\u001b[39m\u001b[38;5;241m*\u001b[39mkwargs):\n\u001b[0;32m    961\u001b[0m   \u001b[38;5;66;03m# pylint: disable=protected-access\u001b[39;00m\n\u001b[1;32m--> 962\u001b[0m   \u001b[38;5;28;01mreturn\u001b[39;00m \u001b[38;5;28;43mself\u001b[39;49m\u001b[38;5;241;43m.\u001b[39;49m\u001b[43m_convert_and_export_metrics\u001b[49m\u001b[43m(\u001b[49m\u001b[43mconvert_func\u001b[49m\u001b[43m,\u001b[49m\u001b[43m \u001b[49m\u001b[38;5;241;43m*\u001b[39;49m\u001b[43margs\u001b[49m\u001b[43m,\u001b[49m\u001b[43m \u001b[49m\u001b[38;5;241;43m*\u001b[39;49m\u001b[38;5;241;43m*\u001b[39;49m\u001b[43mkwargs\u001b[49m\u001b[43m)\u001b[49m\n",
      "File \u001b[1;32mc:\\Users\\aakas\\AppData\\Local\\Programs\\Python\\Python311\\Lib\\site-packages\\tensorflow\\lite\\python\\lite.py:940\u001b[0m, in \u001b[0;36mTFLiteConverterBase._convert_and_export_metrics\u001b[1;34m(self, convert_func, *args, **kwargs)\u001b[0m\n\u001b[0;32m    938\u001b[0m \u001b[38;5;28mself\u001b[39m\u001b[38;5;241m.\u001b[39m_save_conversion_params_metric()\n\u001b[0;32m    939\u001b[0m start_time \u001b[38;5;241m=\u001b[39m time\u001b[38;5;241m.\u001b[39mprocess_time()\n\u001b[1;32m--> 940\u001b[0m result \u001b[38;5;241m=\u001b[39m \u001b[43mconvert_func\u001b[49m\u001b[43m(\u001b[49m\u001b[38;5;28;43mself\u001b[39;49m\u001b[43m,\u001b[49m\u001b[43m \u001b[49m\u001b[38;5;241;43m*\u001b[39;49m\u001b[43margs\u001b[49m\u001b[43m,\u001b[49m\u001b[43m \u001b[49m\u001b[38;5;241;43m*\u001b[39;49m\u001b[38;5;241;43m*\u001b[39;49m\u001b[43mkwargs\u001b[49m\u001b[43m)\u001b[49m\n\u001b[0;32m    941\u001b[0m elapsed_time_ms \u001b[38;5;241m=\u001b[39m (time\u001b[38;5;241m.\u001b[39mprocess_time() \u001b[38;5;241m-\u001b[39m start_time) \u001b[38;5;241m*\u001b[39m \u001b[38;5;241m1000\u001b[39m\n\u001b[0;32m    942\u001b[0m \u001b[38;5;28;01mif\u001b[39;00m result:\n",
      "File \u001b[1;32mc:\\Users\\aakas\\AppData\\Local\\Programs\\Python\\Python311\\Lib\\site-packages\\tensorflow\\lite\\python\\lite.py:1373\u001b[0m, in \u001b[0;36mTFLiteKerasModelConverterV2.convert\u001b[1;34m(self)\u001b[0m\n\u001b[0;32m   1360\u001b[0m \u001b[38;5;129m@_export_metrics\u001b[39m\n\u001b[0;32m   1361\u001b[0m \u001b[38;5;28;01mdef\u001b[39;00m \u001b[38;5;21mconvert\u001b[39m(\u001b[38;5;28mself\u001b[39m):\n\u001b[0;32m   1362\u001b[0m \u001b[38;5;250m  \u001b[39m\u001b[38;5;124;03m\"\"\"Converts a keras model based on instance variables.\u001b[39;00m\n\u001b[0;32m   1363\u001b[0m \n\u001b[0;32m   1364\u001b[0m \u001b[38;5;124;03m  Returns:\u001b[39;00m\n\u001b[1;32m   (...)\u001b[0m\n\u001b[0;32m   1371\u001b[0m \u001b[38;5;124;03m      Invalid quantization parameters.\u001b[39;00m\n\u001b[0;32m   1372\u001b[0m \u001b[38;5;124;03m  \"\"\"\u001b[39;00m\n\u001b[1;32m-> 1373\u001b[0m   saved_model_convert_result \u001b[38;5;241m=\u001b[39m \u001b[38;5;28;43mself\u001b[39;49m\u001b[38;5;241;43m.\u001b[39;49m\u001b[43m_convert_as_saved_model\u001b[49m\u001b[43m(\u001b[49m\u001b[43m)\u001b[49m\n\u001b[0;32m   1374\u001b[0m   \u001b[38;5;28;01mif\u001b[39;00m saved_model_convert_result:\n\u001b[0;32m   1375\u001b[0m     \u001b[38;5;28;01mreturn\u001b[39;00m saved_model_convert_result\n",
      "File \u001b[1;32mc:\\Users\\aakas\\AppData\\Local\\Programs\\Python\\Python311\\Lib\\site-packages\\tensorflow\\lite\\python\\lite.py:1353\u001b[0m, in \u001b[0;36mTFLiteKerasModelConverterV2._convert_as_saved_model\u001b[1;34m(self)\u001b[0m\n\u001b[0;32m   1350\u001b[0m temp_dir \u001b[38;5;241m=\u001b[39m tempfile\u001b[38;5;241m.\u001b[39mmkdtemp()\n\u001b[0;32m   1351\u001b[0m \u001b[38;5;28;01mtry\u001b[39;00m:\n\u001b[0;32m   1352\u001b[0m   graph_def, input_tensors, output_tensors \u001b[38;5;241m=\u001b[39m (\n\u001b[1;32m-> 1353\u001b[0m       \u001b[38;5;28;43mself\u001b[39;49m\u001b[38;5;241;43m.\u001b[39;49m\u001b[43m_convert_keras_to_saved_model\u001b[49m\u001b[43m(\u001b[49m\u001b[43mtemp_dir\u001b[49m\u001b[43m)\u001b[49m)\n\u001b[0;32m   1354\u001b[0m   \u001b[38;5;28;01mif\u001b[39;00m \u001b[38;5;28mself\u001b[39m\u001b[38;5;241m.\u001b[39msaved_model_dir:\n\u001b[0;32m   1355\u001b[0m     \u001b[38;5;28;01mreturn\u001b[39;00m \u001b[38;5;28msuper\u001b[39m(TFLiteKerasModelConverterV2,\n\u001b[0;32m   1356\u001b[0m                  \u001b[38;5;28mself\u001b[39m)\u001b[38;5;241m.\u001b[39mconvert(graph_def, input_tensors, output_tensors)\n",
      "File \u001b[1;32mc:\\Users\\aakas\\AppData\\Local\\Programs\\Python\\Python311\\Lib\\site-packages\\tensorflow\\lite\\python\\convert_phase.py:205\u001b[0m, in \u001b[0;36mconvert_phase.<locals>.actual_decorator.<locals>.wrapper\u001b[1;34m(*args, **kwargs)\u001b[0m\n\u001b[0;32m    202\u001b[0m \u001b[38;5;129m@functools\u001b[39m\u001b[38;5;241m.\u001b[39mwraps(func)\n\u001b[0;32m    203\u001b[0m \u001b[38;5;28;01mdef\u001b[39;00m \u001b[38;5;21mwrapper\u001b[39m(\u001b[38;5;241m*\u001b[39margs, \u001b[38;5;241m*\u001b[39m\u001b[38;5;241m*\u001b[39mkwargs):\n\u001b[0;32m    204\u001b[0m   \u001b[38;5;28;01mtry\u001b[39;00m:\n\u001b[1;32m--> 205\u001b[0m     \u001b[38;5;28;01mreturn\u001b[39;00m \u001b[43mfunc\u001b[49m\u001b[43m(\u001b[49m\u001b[38;5;241;43m*\u001b[39;49m\u001b[43margs\u001b[49m\u001b[43m,\u001b[49m\u001b[43m \u001b[49m\u001b[38;5;241;43m*\u001b[39;49m\u001b[38;5;241;43m*\u001b[39;49m\u001b[43mkwargs\u001b[49m\u001b[43m)\u001b[49m\n\u001b[0;32m    206\u001b[0m   \u001b[38;5;28;01mexcept\u001b[39;00m ConverterError \u001b[38;5;28;01mas\u001b[39;00m converter_error:\n\u001b[0;32m    207\u001b[0m     \u001b[38;5;28;01mif\u001b[39;00m converter_error\u001b[38;5;241m.\u001b[39merrors:\n",
      "File \u001b[1;32mc:\\Users\\aakas\\AppData\\Local\\Programs\\Python\\Python311\\Lib\\site-packages\\tensorflow\\lite\\python\\lite.py:1301\u001b[0m, in \u001b[0;36mTFLiteKerasModelConverterV2._convert_keras_to_saved_model\u001b[1;34m(self, output_dir)\u001b[0m\n\u001b[0;32m   1298\u001b[0m \u001b[38;5;28;01mif\u001b[39;00m \u001b[38;5;28mself\u001b[39m\u001b[38;5;241m.\u001b[39msaved_model_dir:\n\u001b[0;32m   1299\u001b[0m   graph_def, input_tensors, output_tensors \u001b[38;5;241m=\u001b[39m \u001b[38;5;28mself\u001b[39m\u001b[38;5;241m.\u001b[39m_load_saved_model(\n\u001b[0;32m   1300\u001b[0m       \u001b[38;5;28mself\u001b[39m\u001b[38;5;241m.\u001b[39msaved_model_dir, \u001b[38;5;28mself\u001b[39m\u001b[38;5;241m.\u001b[39m_saved_model_tags)\n\u001b[1;32m-> 1301\u001b[0m   \u001b[38;5;28mself\u001b[39m\u001b[38;5;241m.\u001b[39m_trackable_obj \u001b[38;5;241m=\u001b[39m \u001b[43m_load\u001b[49m\u001b[43m(\u001b[49m\u001b[38;5;28;43mself\u001b[39;49m\u001b[38;5;241;43m.\u001b[39;49m\u001b[43msaved_model_dir\u001b[49m\u001b[43m,\u001b[49m\u001b[43m \u001b[49m\u001b[38;5;28;43mself\u001b[39;49m\u001b[38;5;241;43m.\u001b[39;49m\u001b[43m_saved_model_tags\u001b[49m\u001b[43m)\u001b[49m\n\u001b[0;32m   1302\u001b[0m   \u001b[38;5;28;01mreturn\u001b[39;00m graph_def, input_tensors, output_tensors\n\u001b[0;32m   1303\u001b[0m \u001b[38;5;28;01mreturn\u001b[39;00m \u001b[38;5;28;01mNone\u001b[39;00m, \u001b[38;5;28;01mNone\u001b[39;00m, \u001b[38;5;28;01mNone\u001b[39;00m\n",
      "File \u001b[1;32mc:\\Users\\aakas\\AppData\\Local\\Programs\\Python\\Python311\\Lib\\site-packages\\tensorflow\\python\\saved_model\\load.py:836\u001b[0m, in \u001b[0;36mload\u001b[1;34m(export_dir, tags, options)\u001b[0m\n\u001b[0;32m    834\u001b[0m \u001b[38;5;28;01mif\u001b[39;00m \u001b[38;5;28misinstance\u001b[39m(export_dir, os\u001b[38;5;241m.\u001b[39mPathLike):\n\u001b[0;32m    835\u001b[0m   export_dir \u001b[38;5;241m=\u001b[39m os\u001b[38;5;241m.\u001b[39mfspath(export_dir)\n\u001b[1;32m--> 836\u001b[0m result \u001b[38;5;241m=\u001b[39m \u001b[43mload_partial\u001b[49m\u001b[43m(\u001b[49m\u001b[43mexport_dir\u001b[49m\u001b[43m,\u001b[49m\u001b[43m \u001b[49m\u001b[38;5;28;43;01mNone\u001b[39;49;00m\u001b[43m,\u001b[49m\u001b[43m \u001b[49m\u001b[43mtags\u001b[49m\u001b[43m,\u001b[49m\u001b[43m \u001b[49m\u001b[43moptions\u001b[49m\u001b[43m)\u001b[49m[\u001b[38;5;124m\"\u001b[39m\u001b[38;5;124mroot\u001b[39m\u001b[38;5;124m\"\u001b[39m]\n\u001b[0;32m    837\u001b[0m \u001b[38;5;28;01mreturn\u001b[39;00m result\n",
      "File \u001b[1;32mc:\\Users\\aakas\\AppData\\Local\\Programs\\Python\\Python311\\Lib\\site-packages\\tensorflow\\python\\saved_model\\load.py:966\u001b[0m, in \u001b[0;36mload_partial\u001b[1;34m(export_dir, filters, tags, options)\u001b[0m\n\u001b[0;32m    964\u001b[0m \u001b[38;5;28;01mwith\u001b[39;00m ops\u001b[38;5;241m.\u001b[39minit_scope():\n\u001b[0;32m    965\u001b[0m   \u001b[38;5;28;01mtry\u001b[39;00m:\n\u001b[1;32m--> 966\u001b[0m     loader \u001b[38;5;241m=\u001b[39m \u001b[43mLoader\u001b[49m\u001b[43m(\u001b[49m\u001b[43mobject_graph_proto\u001b[49m\u001b[43m,\u001b[49m\u001b[43m \u001b[49m\u001b[43msaved_model_proto\u001b[49m\u001b[43m,\u001b[49m\u001b[43m \u001b[49m\u001b[43mexport_dir\u001b[49m\u001b[43m,\u001b[49m\n\u001b[0;32m    967\u001b[0m \u001b[43m                    \u001b[49m\u001b[43mckpt_options\u001b[49m\u001b[43m,\u001b[49m\u001b[43m \u001b[49m\u001b[43moptions\u001b[49m\u001b[43m,\u001b[49m\u001b[43m \u001b[49m\u001b[43mfilters\u001b[49m\u001b[43m)\u001b[49m\n\u001b[0;32m    968\u001b[0m   \u001b[38;5;28;01mexcept\u001b[39;00m errors\u001b[38;5;241m.\u001b[39mNotFoundError \u001b[38;5;28;01mas\u001b[39;00m err:\n\u001b[0;32m    969\u001b[0m     \u001b[38;5;28;01mraise\u001b[39;00m \u001b[38;5;167;01mFileNotFoundError\u001b[39;00m(\n\u001b[0;32m    970\u001b[0m         \u001b[38;5;28mstr\u001b[39m(err) \u001b[38;5;241m+\u001b[39m \u001b[38;5;124m\"\u001b[39m\u001b[38;5;130;01m\\n\u001b[39;00m\u001b[38;5;124m You may be trying to load on a different device \u001b[39m\u001b[38;5;124m\"\u001b[39m\n\u001b[0;32m    971\u001b[0m         \u001b[38;5;124m\"\u001b[39m\u001b[38;5;124mfrom the computational device. Consider setting the \u001b[39m\u001b[38;5;124m\"\u001b[39m\n\u001b[0;32m    972\u001b[0m         \u001b[38;5;124m\"\u001b[39m\u001b[38;5;124m`experimental_io_device` option in `tf.saved_model.LoadOptions` \u001b[39m\u001b[38;5;124m\"\u001b[39m\n\u001b[0;32m    973\u001b[0m         \u001b[38;5;124m\"\u001b[39m\u001b[38;5;124mto the io_device such as \u001b[39m\u001b[38;5;124m'\u001b[39m\u001b[38;5;124m/job:localhost\u001b[39m\u001b[38;5;124m'\u001b[39m\u001b[38;5;124m.\u001b[39m\u001b[38;5;124m\"\u001b[39m)\n",
      "File \u001b[1;32mc:\\Users\\aakas\\AppData\\Local\\Programs\\Python\\Python311\\Lib\\site-packages\\tensorflow\\python\\saved_model\\load.py:157\u001b[0m, in \u001b[0;36mLoader.__init__\u001b[1;34m(self, object_graph_proto, saved_model_proto, export_dir, ckpt_options, save_options, filters)\u001b[0m\n\u001b[0;32m    154\u001b[0m \u001b[38;5;28mself\u001b[39m\u001b[38;5;241m.\u001b[39m_proto \u001b[38;5;241m=\u001b[39m object_graph_proto\n\u001b[0;32m    155\u001b[0m \u001b[38;5;28mself\u001b[39m\u001b[38;5;241m.\u001b[39m_export_dir \u001b[38;5;241m=\u001b[39m export_dir\n\u001b[0;32m    156\u001b[0m \u001b[38;5;28mself\u001b[39m\u001b[38;5;241m.\u001b[39m_concrete_functions \u001b[38;5;241m=\u001b[39m (\n\u001b[1;32m--> 157\u001b[0m     \u001b[43mfunction_deserialization\u001b[49m\u001b[38;5;241;43m.\u001b[39;49m\u001b[43mload_function_def_library\u001b[49m\u001b[43m(\u001b[49m\n\u001b[0;32m    158\u001b[0m \u001b[43m        \u001b[49m\u001b[43mlibrary\u001b[49m\u001b[38;5;241;43m=\u001b[39;49m\u001b[43mmeta_graph\u001b[49m\u001b[38;5;241;43m.\u001b[39;49m\u001b[43mgraph_def\u001b[49m\u001b[38;5;241;43m.\u001b[39;49m\u001b[43mlibrary\u001b[49m\u001b[43m,\u001b[49m\n\u001b[0;32m    159\u001b[0m \u001b[43m        \u001b[49m\u001b[43msaved_object_graph\u001b[49m\u001b[38;5;241;43m=\u001b[39;49m\u001b[38;5;28;43mself\u001b[39;49m\u001b[38;5;241;43m.\u001b[39;49m\u001b[43m_proto\u001b[49m\u001b[43m,\u001b[49m\n\u001b[0;32m    160\u001b[0m \u001b[43m        \u001b[49m\u001b[43mwrapper_function\u001b[49m\u001b[38;5;241;43m=\u001b[39;49m\u001b[43m_WrapperFunction\u001b[49m\u001b[43m)\u001b[49m)\n\u001b[0;32m    161\u001b[0m \u001b[38;5;66;03m# Store a set of all concrete functions that have been set up with\u001b[39;00m\n\u001b[0;32m    162\u001b[0m \u001b[38;5;66;03m# captures.\u001b[39;00m\n\u001b[0;32m    163\u001b[0m \u001b[38;5;28mself\u001b[39m\u001b[38;5;241m.\u001b[39m_restored_concrete_functions \u001b[38;5;241m=\u001b[39m \u001b[38;5;28mset\u001b[39m()\n",
      "File \u001b[1;32mc:\\Users\\aakas\\AppData\\Local\\Programs\\Python\\Python311\\Lib\\site-packages\\tensorflow\\python\\saved_model\\function_deserialization.py:416\u001b[0m, in \u001b[0;36mload_function_def_library\u001b[1;34m(library, saved_object_graph, load_shared_name_suffix, wrapper_function)\u001b[0m\n\u001b[0;32m    410\u001b[0m \u001b[38;5;66;03m# There is no need to copy all functions into the function def graph. It\u001b[39;00m\n\u001b[0;32m    411\u001b[0m \u001b[38;5;66;03m# leads to a O(n^2) increase of memory when importing functions and the\u001b[39;00m\n\u001b[0;32m    412\u001b[0m \u001b[38;5;66;03m# extra function definitions are a no-op since they already imported as a\u001b[39;00m\n\u001b[0;32m    413\u001b[0m \u001b[38;5;66;03m# function before and passed in explicitly (due to the topologic sort\u001b[39;00m\n\u001b[0;32m    414\u001b[0m \u001b[38;5;66;03m# import).\u001b[39;00m\n\u001b[0;32m    415\u001b[0m \u001b[38;5;28;01mwith\u001b[39;00m graph\u001b[38;5;241m.\u001b[39mas_default():\n\u001b[1;32m--> 416\u001b[0m   func_graph \u001b[38;5;241m=\u001b[39m \u001b[43mfunction_def_lib\u001b[49m\u001b[38;5;241;43m.\u001b[39;49m\u001b[43mfunction_def_to_graph\u001b[49m\u001b[43m(\u001b[49m\n\u001b[0;32m    417\u001b[0m \u001b[43m      \u001b[49m\u001b[43mfdef\u001b[49m\u001b[43m,\u001b[49m\n\u001b[0;32m    418\u001b[0m \u001b[43m      \u001b[49m\u001b[43mstructured_input_signature\u001b[49m\u001b[38;5;241;43m=\u001b[39;49m\u001b[43mstructured_input_signature\u001b[49m\u001b[43m,\u001b[49m\n\u001b[0;32m    419\u001b[0m \u001b[43m      \u001b[49m\u001b[43mstructured_outputs\u001b[49m\u001b[38;5;241;43m=\u001b[39;49m\u001b[43mstructured_outputs\u001b[49m\u001b[43m)\u001b[49m\n\u001b[0;32m    420\u001b[0m \u001b[38;5;66;03m# Restores gradients for function-call ops (not the same as ops that use\u001b[39;00m\n\u001b[0;32m    421\u001b[0m \u001b[38;5;66;03m# custom gradients)\u001b[39;00m\n\u001b[0;32m    422\u001b[0m _restore_gradient_functions(func_graph, renamed_functions, loaded_gradients)\n",
      "File \u001b[1;32mc:\\Users\\aakas\\AppData\\Local\\Programs\\Python\\Python311\\Lib\\site-packages\\tensorflow\\python\\framework\\function_def_to_graph.py:90\u001b[0m, in \u001b[0;36mfunction_def_to_graph\u001b[1;34m(fdef, structured_input_signature, structured_outputs, input_shapes, propagate_device_spec)\u001b[0m\n\u001b[0;32m     85\u001b[0m graph_def, nested_to_flat_tensor_name \u001b[38;5;241m=\u001b[39m function_def_to_graph_def(\n\u001b[0;32m     86\u001b[0m     fdef, input_shapes)\n\u001b[0;32m     88\u001b[0m \u001b[38;5;28;01mwith\u001b[39;00m func_graph\u001b[38;5;241m.\u001b[39mas_default():\n\u001b[0;32m     89\u001b[0m   \u001b[38;5;66;03m# Add all function nodes to the graph.\u001b[39;00m\n\u001b[1;32m---> 90\u001b[0m   \u001b[43mimporter\u001b[49m\u001b[38;5;241;43m.\u001b[39;49m\u001b[43mimport_graph_def_for_function\u001b[49m\u001b[43m(\u001b[49m\n\u001b[0;32m     91\u001b[0m \u001b[43m      \u001b[49m\u001b[43mgraph_def\u001b[49m\u001b[43m,\u001b[49m\u001b[43m \u001b[49m\u001b[43mname\u001b[49m\u001b[38;5;241;43m=\u001b[39;49m\u001b[38;5;124;43m\"\u001b[39;49m\u001b[38;5;124;43m\"\u001b[39;49m\u001b[43m,\u001b[49m\u001b[43m \u001b[49m\u001b[43mpropagate_device_spec\u001b[49m\u001b[38;5;241;43m=\u001b[39;49m\u001b[43mpropagate_device_spec\u001b[49m\u001b[43m)\u001b[49m\n\u001b[0;32m     93\u001b[0m   \u001b[38;5;66;03m# Initialize fields specific to FuncGraph.\u001b[39;00m\n\u001b[0;32m     94\u001b[0m \n\u001b[0;32m     95\u001b[0m   \u001b[38;5;66;03m# inputs\u001b[39;00m\n\u001b[0;32m     96\u001b[0m   input_tensor_names \u001b[38;5;241m=\u001b[39m [\n\u001b[0;32m     97\u001b[0m       nested_to_flat_tensor_name[arg\u001b[38;5;241m.\u001b[39mname] \u001b[38;5;28;01mfor\u001b[39;00m arg \u001b[38;5;129;01min\u001b[39;00m fdef\u001b[38;5;241m.\u001b[39msignature\u001b[38;5;241m.\u001b[39minput_arg\n\u001b[0;32m     98\u001b[0m   ]\n",
      "File \u001b[1;32mc:\\Users\\aakas\\AppData\\Local\\Programs\\Python\\Python311\\Lib\\site-packages\\tensorflow\\python\\framework\\importer.py:417\u001b[0m, in \u001b[0;36mimport_graph_def_for_function\u001b[1;34m(graph_def, name, propagate_device_spec)\u001b[0m\n\u001b[0;32m    414\u001b[0m \u001b[38;5;28;01mdef\u001b[39;00m \u001b[38;5;21mimport_graph_def_for_function\u001b[39m(  \u001b[38;5;66;03m# pylint: disable=invalid-name\u001b[39;00m\n\u001b[0;32m    415\u001b[0m     graph_def, name\u001b[38;5;241m=\u001b[39m\u001b[38;5;28;01mNone\u001b[39;00m, propagate_device_spec\u001b[38;5;241m=\u001b[39m\u001b[38;5;28;01mFalse\u001b[39;00m):\n\u001b[0;32m    416\u001b[0m \u001b[38;5;250m  \u001b[39m\u001b[38;5;124;03m\"\"\"Like import_graph_def but does not validate colocation constraints.\"\"\"\u001b[39;00m\n\u001b[1;32m--> 417\u001b[0m   \u001b[38;5;28;01mreturn\u001b[39;00m \u001b[43m_import_graph_def_internal\u001b[49m\u001b[43m(\u001b[49m\n\u001b[0;32m    418\u001b[0m \u001b[43m      \u001b[49m\u001b[43mgraph_def\u001b[49m\u001b[43m,\u001b[49m\n\u001b[0;32m    419\u001b[0m \u001b[43m      \u001b[49m\u001b[43mvalidate_colocation_constraints\u001b[49m\u001b[38;5;241;43m=\u001b[39;49m\u001b[38;5;28;43;01mFalse\u001b[39;49;00m\u001b[43m,\u001b[49m\n\u001b[0;32m    420\u001b[0m \u001b[43m      \u001b[49m\u001b[43mname\u001b[49m\u001b[38;5;241;43m=\u001b[39;49m\u001b[43mname\u001b[49m\u001b[43m,\u001b[49m\n\u001b[0;32m    421\u001b[0m \u001b[43m      \u001b[49m\u001b[43mpropagate_device_spec\u001b[49m\u001b[38;5;241;43m=\u001b[39;49m\u001b[43mpropagate_device_spec\u001b[49m\u001b[43m)\u001b[49m\n",
      "File \u001b[1;32mc:\\Users\\aakas\\AppData\\Local\\Programs\\Python\\Python311\\Lib\\site-packages\\tensorflow\\python\\framework\\importer.py:527\u001b[0m, in \u001b[0;36m_import_graph_def_internal\u001b[1;34m(graph_def, input_map, return_elements, validate_colocation_constraints, name, producer_op_list, propagate_device_spec)\u001b[0m\n\u001b[0;32m    515\u001b[0m       \u001b[38;5;28;01mraise\u001b[39;00m \u001b[38;5;167;01mValueError\u001b[39;00m(\u001b[38;5;28mstr\u001b[39m(e))\n\u001b[0;32m    517\u001b[0m   \u001b[38;5;66;03m# Create _DefinedFunctions for any imported functions.\u001b[39;00m\n\u001b[0;32m    518\u001b[0m   \u001b[38;5;66;03m#\u001b[39;00m\n\u001b[0;32m    519\u001b[0m   \u001b[38;5;66;03m# We do this by creating _DefinedFunctions directly from `graph_def`, and\u001b[39;00m\n\u001b[1;32m   (...)\u001b[0m\n\u001b[0;32m    524\u001b[0m   \u001b[38;5;66;03m# TODO(skyewm): fetch the TF_Functions directly from the TF_Graph\u001b[39;00m\n\u001b[0;32m    525\u001b[0m   \u001b[38;5;66;03m# TODO(skyewm): avoid sending serialized FunctionDefs back to the TF_Graph\u001b[39;00m\n\u001b[1;32m--> 527\u001b[0m   \u001b[43m_ProcessNewOps\u001b[49m\u001b[43m(\u001b[49m\u001b[43mgraph\u001b[49m\u001b[43m)\u001b[49m\n\u001b[0;32m    529\u001b[0m \u001b[38;5;28;01mif\u001b[39;00m graph_def\u001b[38;5;241m.\u001b[39mlibrary \u001b[38;5;129;01mand\u001b[39;00m graph_def\u001b[38;5;241m.\u001b[39mlibrary\u001b[38;5;241m.\u001b[39mfunction:\n\u001b[0;32m    530\u001b[0m   functions \u001b[38;5;241m=\u001b[39m function\u001b[38;5;241m.\u001b[39mfrom_library(graph_def\u001b[38;5;241m.\u001b[39mlibrary)\n",
      "File \u001b[1;32mc:\\Users\\aakas\\AppData\\Local\\Programs\\Python\\Python311\\Lib\\site-packages\\tensorflow\\python\\framework\\importer.py:250\u001b[0m, in \u001b[0;36m_ProcessNewOps\u001b[1;34m(graph)\u001b[0m\n\u001b[0;32m    246\u001b[0m \u001b[38;5;66;03m# Maps from a node to the names of the ops it's colocated with, if colocation\u001b[39;00m\n\u001b[0;32m    247\u001b[0m \u001b[38;5;66;03m# is specified in the attributes.\u001b[39;00m\n\u001b[0;32m    248\u001b[0m colocation_pairs \u001b[38;5;241m=\u001b[39m {}\n\u001b[1;32m--> 250\u001b[0m \u001b[38;5;28;01mfor\u001b[39;00m new_op \u001b[38;5;129;01min\u001b[39;00m \u001b[43mgraph\u001b[49m\u001b[38;5;241;43m.\u001b[39;49m\u001b[43m_add_new_tf_operations\u001b[49m\u001b[43m(\u001b[49m\u001b[43mcompute_devices\u001b[49m\u001b[38;5;241;43m=\u001b[39;49m\u001b[38;5;28;43;01mFalse\u001b[39;49;00m\u001b[43m)\u001b[49m:  \u001b[38;5;66;03m# pylint: disable=protected-access\u001b[39;00m\n\u001b[0;32m    251\u001b[0m   original_device \u001b[38;5;241m=\u001b[39m new_op\u001b[38;5;241m.\u001b[39mdevice\n\u001b[0;32m    252\u001b[0m   new_op\u001b[38;5;241m.\u001b[39m_set_device(\u001b[38;5;124m'\u001b[39m\u001b[38;5;124m'\u001b[39m)  \u001b[38;5;66;03m# pylint: disable=protected-access\u001b[39;00m\n",
      "File \u001b[1;32mc:\\Users\\aakas\\AppData\\Local\\Programs\\Python\\Python311\\Lib\\site-packages\\tensorflow\\python\\framework\\ops.py:3964\u001b[0m, in \u001b[0;36mGraph._add_new_tf_operations\u001b[1;34m(self, compute_devices)\u001b[0m\n\u001b[0;32m   3960\u001b[0m \u001b[38;5;28mself\u001b[39m\u001b[38;5;241m.\u001b[39m_check_not_finalized()\n\u001b[0;32m   3962\u001b[0m \u001b[38;5;66;03m# Create all Operation objects before accessing their inputs since an op may\u001b[39;00m\n\u001b[0;32m   3963\u001b[0m \u001b[38;5;66;03m# be created before its inputs.\u001b[39;00m\n\u001b[1;32m-> 3964\u001b[0m new_ops \u001b[38;5;241m=\u001b[39m \u001b[43m[\u001b[49m\n\u001b[0;32m   3965\u001b[0m \u001b[43m    \u001b[49m\u001b[38;5;28;43mself\u001b[39;49m\u001b[38;5;241;43m.\u001b[39;49m\u001b[43m_create_op_from_tf_operation\u001b[49m\u001b[43m(\u001b[49m\u001b[43mc_op\u001b[49m\u001b[43m,\u001b[49m\u001b[43m \u001b[49m\u001b[43mcompute_device\u001b[49m\u001b[38;5;241;43m=\u001b[39;49m\u001b[43mcompute_devices\u001b[49m\u001b[43m)\u001b[49m\n\u001b[0;32m   3966\u001b[0m \u001b[43m    \u001b[49m\u001b[38;5;28;43;01mfor\u001b[39;49;00m\u001b[43m \u001b[49m\u001b[43mc_op\u001b[49m\u001b[43m \u001b[49m\u001b[38;5;129;43;01min\u001b[39;49;00m\u001b[43m \u001b[49m\u001b[43mc_api_util\u001b[49m\u001b[38;5;241;43m.\u001b[39;49m\u001b[43mnew_tf_operations\u001b[49m\u001b[43m(\u001b[49m\u001b[38;5;28;43mself\u001b[39;49m\u001b[43m)\u001b[49m\n\u001b[0;32m   3967\u001b[0m \u001b[43m\u001b[49m\u001b[43m]\u001b[49m\n\u001b[0;32m   3969\u001b[0m \u001b[38;5;66;03m# pylint: disable=protected-access\u001b[39;00m\n\u001b[0;32m   3970\u001b[0m \u001b[38;5;28;01mfor\u001b[39;00m op \u001b[38;5;129;01min\u001b[39;00m new_ops:\n",
      "File \u001b[1;32mc:\\Users\\aakas\\AppData\\Local\\Programs\\Python\\Python311\\Lib\\site-packages\\tensorflow\\python\\framework\\ops.py:3965\u001b[0m, in \u001b[0;36m<listcomp>\u001b[1;34m(.0)\u001b[0m\n\u001b[0;32m   3960\u001b[0m \u001b[38;5;28mself\u001b[39m\u001b[38;5;241m.\u001b[39m_check_not_finalized()\n\u001b[0;32m   3962\u001b[0m \u001b[38;5;66;03m# Create all Operation objects before accessing their inputs since an op may\u001b[39;00m\n\u001b[0;32m   3963\u001b[0m \u001b[38;5;66;03m# be created before its inputs.\u001b[39;00m\n\u001b[0;32m   3964\u001b[0m new_ops \u001b[38;5;241m=\u001b[39m [\n\u001b[1;32m-> 3965\u001b[0m     \u001b[38;5;28;43mself\u001b[39;49m\u001b[38;5;241;43m.\u001b[39;49m\u001b[43m_create_op_from_tf_operation\u001b[49m\u001b[43m(\u001b[49m\u001b[43mc_op\u001b[49m\u001b[43m,\u001b[49m\u001b[43m \u001b[49m\u001b[43mcompute_device\u001b[49m\u001b[38;5;241;43m=\u001b[39;49m\u001b[43mcompute_devices\u001b[49m\u001b[43m)\u001b[49m\n\u001b[0;32m   3966\u001b[0m     \u001b[38;5;28;01mfor\u001b[39;00m c_op \u001b[38;5;129;01min\u001b[39;00m c_api_util\u001b[38;5;241m.\u001b[39mnew_tf_operations(\u001b[38;5;28mself\u001b[39m)\n\u001b[0;32m   3967\u001b[0m ]\n\u001b[0;32m   3969\u001b[0m \u001b[38;5;66;03m# pylint: disable=protected-access\u001b[39;00m\n\u001b[0;32m   3970\u001b[0m \u001b[38;5;28;01mfor\u001b[39;00m op \u001b[38;5;129;01min\u001b[39;00m new_ops:\n",
      "File \u001b[1;32mc:\\Users\\aakas\\AppData\\Local\\Programs\\Python\\Python311\\Lib\\site-packages\\tensorflow\\python\\framework\\ops.py:3852\u001b[0m, in \u001b[0;36mGraph._create_op_from_tf_operation\u001b[1;34m(self, c_op, compute_device)\u001b[0m\n\u001b[0;32m   3847\u001b[0m ret \u001b[38;5;241m=\u001b[39m Operation\u001b[38;5;241m.\u001b[39m_from_c_op(c_op\u001b[38;5;241m=\u001b[39mc_op, g\u001b[38;5;241m=\u001b[39m\u001b[38;5;28mself\u001b[39m)  \u001b[38;5;66;03m# pylint: disable=protected-access\u001b[39;00m\n\u001b[0;32m   3848\u001b[0m \u001b[38;5;66;03m# If a name_scope was created with ret.name but no nodes were created in it,\u001b[39;00m\n\u001b[0;32m   3849\u001b[0m \u001b[38;5;66;03m# the name will still appear in _names_in_use even though the name hasn't\u001b[39;00m\n\u001b[0;32m   3850\u001b[0m \u001b[38;5;66;03m# been used. This is ok, just leave _names_in_use as-is in this case.\u001b[39;00m\n\u001b[0;32m   3851\u001b[0m \u001b[38;5;66;03m# TODO(skyewm): make the C API guarantee no name conflicts.\u001b[39;00m\n\u001b[1;32m-> 3852\u001b[0m name_key \u001b[38;5;241m=\u001b[39m \u001b[43mret\u001b[49m\u001b[38;5;241;43m.\u001b[39;49m\u001b[43mname\u001b[49m\u001b[38;5;241m.\u001b[39mlower()\n\u001b[0;32m   3853\u001b[0m \u001b[38;5;28;01mif\u001b[39;00m name_key \u001b[38;5;129;01mnot\u001b[39;00m \u001b[38;5;129;01min\u001b[39;00m \u001b[38;5;28mself\u001b[39m\u001b[38;5;241m.\u001b[39m_names_in_use:\n\u001b[0;32m   3854\u001b[0m   \u001b[38;5;28mself\u001b[39m\u001b[38;5;241m.\u001b[39m_names_in_use[name_key] \u001b[38;5;241m=\u001b[39m \u001b[38;5;241m1\u001b[39m\n",
      "File \u001b[1;32mc:\\Users\\aakas\\AppData\\Local\\Programs\\Python\\Python311\\Lib\\site-packages\\tensorflow\\python\\framework\\ops.py:2254\u001b[0m, in \u001b[0;36mOperation.name\u001b[1;34m(self)\u001b[0m\n\u001b[0;32m   2251\u001b[0m \u001b[38;5;129m@property\u001b[39m\n\u001b[0;32m   2252\u001b[0m \u001b[38;5;28;01mdef\u001b[39;00m \u001b[38;5;21mname\u001b[39m(\u001b[38;5;28mself\u001b[39m):\n\u001b[0;32m   2253\u001b[0m \u001b[38;5;250m  \u001b[39m\u001b[38;5;124;03m\"\"\"The full name of this operation.\"\"\"\u001b[39;00m\n\u001b[1;32m-> 2254\u001b[0m   \u001b[38;5;28;01mreturn\u001b[39;00m \u001b[43mpywrap_tf_session\u001b[49m\u001b[38;5;241;43m.\u001b[39;49m\u001b[43mTF_OperationName\u001b[49m\u001b[43m(\u001b[49m\u001b[38;5;28;43mself\u001b[39;49m\u001b[38;5;241;43m.\u001b[39;49m\u001b[43m_c_op\u001b[49m\u001b[43m)\u001b[49m\n",
      "\u001b[1;31mKeyboardInterrupt\u001b[0m: "
     ]
    }
   ],
   "source": [
    "# Convert model to TensorFlow Lite format\n",
    "converter = tf.lite.TFLiteConverter.from_keras_model(model)\n",
    "tflite_model = converter.convert()"
   ]
  }
 ],
 "metadata": {
  "kernelspec": {
   "display_name": "Python 3",
   "language": "python",
   "name": "python3"
  },
  "language_info": {
   "codemirror_mode": {
    "name": "ipython",
    "version": 3
   },
   "file_extension": ".py",
   "mimetype": "text/x-python",
   "name": "python",
   "nbconvert_exporter": "python",
   "pygments_lexer": "ipython3",
   "version": "3.11.1"
  }
 },
 "nbformat": 4,
 "nbformat_minor": 2
}
